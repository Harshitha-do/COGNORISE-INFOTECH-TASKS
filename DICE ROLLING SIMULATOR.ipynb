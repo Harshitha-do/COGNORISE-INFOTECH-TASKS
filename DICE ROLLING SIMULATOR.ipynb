{
 "cells": [
  {
   "cell_type": "code",
   "execution_count": 4,
   "id": "1503abaf-0210-4f19-b6aa-940d0ab69ad6",
   "metadata": {},
   "outputs": [
    {
     "name": "stdout",
     "output_type": "stream",
     "text": [
      "Welcome to the Dice Roller Simulator!\n",
      "\n",
      "Menu:\n",
      "1. Roll dice\n",
      "2. Exit\n"
     ]
    },
    {
     "name": "stdin",
     "output_type": "stream",
     "text": [
      "Enter your choice (1 or 2):  1\n",
      "Enter the number of sides on the dice :  6\n",
      "Enter the number of rolls:  5\n"
     ]
    },
    {
     "name": "stdout",
     "output_type": "stream",
     "text": [
      "\n",
      "Rolling Results:\n",
      "Roll 1: 1\n",
      "Roll 2: 2\n",
      "Roll 3: 1\n",
      "Roll 4: 5\n",
      "Roll 5: 1\n",
      "\n",
      "Menu:\n",
      "1. Roll dice\n",
      "2. Exit\n"
     ]
    },
    {
     "name": "stdin",
     "output_type": "stream",
     "text": [
      "Enter your choice (1 or 2):  2\n"
     ]
    },
    {
     "name": "stdout",
     "output_type": "stream",
     "text": [
      "Thank you for using the Dice Roller Simulator. Goodbye!\n"
     ]
    }
   ],
   "source": [
    "import random\n",
    "\n",
    "def roll_dice(sides, num_rolls):\n",
    "    return [random.randint(1, sides) for _ in range(num_rolls)]\n",
    "\n",
    "def display_results(results):\n",
    "    print(\"\\nRolling Results:\")\n",
    "    for i in range(len(results)):\n",
    "        print(\"Roll \" + str(i + 1) + \": \" + str(results[i]))\n",
    "\n",
    "def main():\n",
    "    print(\"Welcome to the Dice Roller Simulator!\")\n",
    "    \n",
    "    while True:\n",
    "        print(\"\\nMenu:\")\n",
    "        print(\"1. Roll dice\")\n",
    "        print(\"2. Exit\")\n",
    "        \n",
    "        choice = input(\"Enter your choice (1 or 2): \")\n",
    "        \n",
    "        if choice == \"1\":\n",
    "            while True:\n",
    "                try:\n",
    "                    sides = int(input(\"Enter the number of sides on the dice : \"))\n",
    "                    num_rolls = int(input(\"Enter the number of rolls: \"))\n",
    "                    \n",
    "                    if sides < 1 or num_rolls < 1:\n",
    "                        raise ValueError(\"Number of sides and rolls must be at least 1.\")\n",
    "                    \n",
    "                    break\n",
    "                except ValueError as e:\n",
    "                    print(\"Invalid input: \" + str(e) + \". Please try again.\")\n",
    "            \n",
    "            results = roll_dice(sides, num_rolls)\n",
    "            display_results(results)\n",
    "        \n",
    "        elif choice == \"2\":\n",
    "            print(\"Thank you for using the Dice Roller Simulator. Goodbye!\")\n",
    "            break\n",
    "        \n",
    "        else:\n",
    "            print(\"Invalid choice. Please select 1 or 2.\")\n",
    "\n",
    "if __name__ == \"__main__\":\n",
    "    main()"
   ]
  }
 ],
 "metadata": {
  "kernelspec": {
   "display_name": "Python 3 (ipykernel)",
   "language": "python",
   "name": "python3"
  },
  "language_info": {
   "codemirror_mode": {
    "name": "ipython",
    "version": 3
   },
   "file_extension": ".py",
   "mimetype": "text/x-python",
   "name": "python",
   "nbconvert_exporter": "python",
   "pygments_lexer": "ipython3",
   "version": "3.12.2"
  }
 },
 "nbformat": 4,
 "nbformat_minor": 5
}
